{
 "cells": [
  {
   "cell_type": "code",
   "execution_count": 11,
   "metadata": {},
   "outputs": [],
   "source": [
    "import pandas as pd\n",
    "\n",
    "def calculate_accuracy(predicted_file_path, actual_file_path):\n",
    "    predicted_df = pd.read_csv(predicted_file_path) if predicted_file_path.endswith('.csv') else pd.read_excel(predicted_file_path)\n",
    "    actual_df = pd.read_excel(actual_file_path)\n",
    "\n",
    "    if 'Meets_Criteria' not in predicted_df.columns or 'Meets_Criteria' not in actual_df.columns:\n",
    "        raise ValueError(\"Both files must contain a 'Meets_Criteria' column with TRUE/FALSE values.\")\n",
    "    \n",
    "    if len(predicted_df) != len(actual_df):\n",
    "        raise ValueError(\"Both files must have the same number of rows.\")\n",
    "    \n",
    "    accuracy = (predicted_df['Meets_Criteria'] == actual_df['Meets_Criteria']).mean() * 100\n",
    "    return accuracy\n",
    "\n",
    "predicted_file_path = '/Users/armanimanov/Downloads/Filtered_Narrative_Data.csv'\n",
    "actual_file_path = '/Users/armanimanov/SCOLI/enhanced_spine_analysis_1731511303.0158012.xlsx'"
   ]
  },
  {
   "cell_type": "code",
   "execution_count": 12,
   "metadata": {},
   "outputs": [
    {
     "name": "stdout",
     "output_type": "stream",
     "text": [
      "Accuracy: 92.61%\n"
     ]
    }
   ],
   "source": [
    "accuracy = calculate_accuracy(predicted_file_path, actual_file_path)\n",
    "print(f\"Accuracy: {accuracy:.2f}%\")"
   ]
  },
  {
   "cell_type": "code",
   "execution_count": null,
   "metadata": {},
   "outputs": [],
   "source": []
  }
 ],
 "metadata": {
  "kernelspec": {
   "display_name": "vsc",
   "language": "python",
   "name": "python3"
  },
  "language_info": {
   "codemirror_mode": {
    "name": "ipython",
    "version": 3
   },
   "file_extension": ".py",
   "mimetype": "text/x-python",
   "name": "python",
   "nbconvert_exporter": "python",
   "pygments_lexer": "ipython3",
   "version": "3.9.17"
  }
 },
 "nbformat": 4,
 "nbformat_minor": 2
}
