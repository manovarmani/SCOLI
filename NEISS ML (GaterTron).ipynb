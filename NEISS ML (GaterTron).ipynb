{
 "cells": [
  {
   "cell_type": "code",
   "execution_count": 2,
   "metadata": {},
   "outputs": [],
   "source": [
    "import pandas as pd\n",
    "import torch\n",
    "from transformers import AutoTokenizer, AutoModel\n",
    "from tqdm import tqdm\n",
    "import numpy as np"
   ]
  },
  {
   "cell_type": "code",
   "execution_count": 5,
   "metadata": {},
   "outputs": [
    {
     "name": "stdout",
     "output_type": "stream",
     "text": [
      "Loading NEISS data...\n",
      "Loading BioClinicalBERT model...\n"
     ]
    },
    {
     "data": {
      "application/vnd.jupyter.widget-view+json": {
       "model_id": "61ef10d7272f4b12a2b10c925714774d",
       "version_major": 2,
       "version_minor": 0
      },
      "text/plain": [
       "config.json:   0%|          | 0.00/385 [00:00<?, ?B/s]"
      ]
     },
     "metadata": {},
     "output_type": "display_data"
    },
    {
     "data": {
      "application/vnd.jupyter.widget-view+json": {
       "model_id": "d8ecbd79608c4723b93cb9915eb5c6f1",
       "version_major": 2,
       "version_minor": 0
      },
      "text/plain": [
       "vocab.txt:   0%|          | 0.00/213k [00:00<?, ?B/s]"
      ]
     },
     "metadata": {},
     "output_type": "display_data"
    },
    {
     "data": {
      "application/vnd.jupyter.widget-view+json": {
       "model_id": "6dd52cd8f9a4447a9383ef8eb4a0e0a7",
       "version_major": 2,
       "version_minor": 0
      },
      "text/plain": [
       "pytorch_model.bin:   0%|          | 0.00/436M [00:00<?, ?B/s]"
      ]
     },
     "metadata": {},
     "output_type": "display_data"
    },
    {
     "name": "stdout",
     "output_type": "stream",
     "text": [
      "Analyzing narratives...\n"
     ]
    },
    {
     "name": "stderr",
     "output_type": "stream",
     "text": [
      "  1%|          | 98/15004 [00:03<07:45, 31.99it/s]"
     ]
    },
    {
     "data": {
      "application/vnd.jupyter.widget-view+json": {
       "model_id": "47eb7fa1c3314336862f4685c0f9e478",
       "version_major": 2,
       "version_minor": 0
      },
      "text/plain": [
       "model.safetensors:   0%|          | 0.00/436M [00:00<?, ?B/s]"
      ]
     },
     "metadata": {},
     "output_type": "display_data"
    },
    {
     "name": "stderr",
     "output_type": "stream",
     "text": [
      "100%|██████████| 15004/15004 [07:25<00:00, 33.70it/s]\n"
     ]
    },
    {
     "name": "stdout",
     "output_type": "stream",
     "text": [
      "\n",
      "Analysis Results:\n",
      "Total cases analyzed: 15004\n",
      "Spine-related cases: 2829 (18.9%)\n",
      "Anatomical terms found in 3442 cases (22.9%)\n",
      "Injuries terms found in 6287 cases (41.9%)\n",
      "Conditions terms found in 284 cases (1.9%)\n",
      "Symptoms terms found in 4683 cases (31.2%)\n",
      "\n",
      "Saving results...\n",
      "Results saved to: soccer_spine_injuries.xlsx\n"
     ]
    }
   ],
   "source": [
    "class SpineInjuryAnalyzer:\n",
    "    def __init__(self):\n",
    "        \"\"\"\n",
    "        Initialize the analyzer with BioClinicalBERT\n",
    "        \"\"\"\n",
    "        print(\"Loading BioClinicalBERT model...\")\n",
    "        self.tokenizer = AutoTokenizer.from_pretrained(\"emilyalsentzer/Bio_ClinicalBERT\")\n",
    "        self.model = AutoModel.from_pretrained(\"emilyalsentzer/Bio_ClinicalBERT\")\n",
    "        \n",
    "        #GPU available?\n",
    "        self.device = torch.device(\"cuda\" if torch.cuda.is_available() else \"cpu\")\n",
    "        self.model = self.model.to(self.device)\n",
    "        self.model.eval()\n",
    "        \n",
    "        self.spine_terms = {\n",
    "            'anatomical': [\n",
    "                \"spine\", \"spinal\", \"vertebra\", \"vertebrae\", \"cervical\", \n",
    "                \"thoracic\", \"lumbar\", \"sacral\", \"coccyx\", \"back\", \"neck\",\n",
    "                \"vertebral column\", \"spinal cord\", \"disc\", \"disk\"\n",
    "            ],\n",
    "            'injuries': [\n",
    "                \"strain\", \"sprain\", \"fracture\", \"injury\", \"trauma\",\n",
    "                \"whiplash\", \"subluxation\", \"dislocation\", \"compression\",\n",
    "                \"contusion\", \"pulled muscle\"\n",
    "            ],\n",
    "            'conditions': [\n",
    "                \"herniated\", \"bulging\", \"slipped\", \"compressed\", \"pinched\",\n",
    "                \"stenosis\", \"radiculopathy\", \"myelopathy\", \"spondylosis\",\n",
    "                \"degenerative\", \"sciatica\"\n",
    "            ],\n",
    "            'symptoms': [\n",
    "                \"pain\", \"numbness\", \"tingling\", \"weakness\", \"stiffness\",\n",
    "                \"limited range\", \"limited motion\", \"radiating\", \"shooting\",\n",
    "                \"sore\", \"ache\", \"tender\", \"burning\"\n",
    "            ]\n",
    "        }\n",
    "\n",
    "    def preprocess_text(self, text):\n",
    "        text = str(text).lower().strip()\n",
    "        return text\n",
    "\n",
    "    def analyze_narrative(self, text):\n",
    "        \"\"\"\n",
    "        Analyze a single narrative for spine-related content\n",
    "        \"\"\"\n",
    "        processed_text = self.preprocess_text(text)\n",
    "        \n",
    "        matches = {category: [] for category in self.spine_terms.keys()}\n",
    "        for category, terms in self.spine_terms.items():\n",
    "            for term in terms:\n",
    "                if term in processed_text:\n",
    "                    matches[category].append(term)\n",
    "\n",
    "        encoded = self.tokenizer(\n",
    "            processed_text,\n",
    "            padding=True,\n",
    "            truncation=True,\n",
    "            max_length=512,\n",
    "            return_tensors='pt'\n",
    "        ).to(self.device)\n",
    "\n",
    "        with torch.no_grad():\n",
    "            outputs = self.model(**encoded)\n",
    "            embedding = outputs.last_hidden_state[:, 0, :].cpu().numpy()[0]\n",
    "\n",
    "        category_scores = {}\n",
    "        for category, matched_terms in matches.items():\n",
    "            if matched_terms:\n",
    "                category_scores[category] = len(matched_terms) / len(self.spine_terms[category])\n",
    "            else:\n",
    "                category_scores[category] = 0.0\n",
    "\n",
    "        anatomical_weight = 0.4\n",
    "        other_weight = 0.2\n",
    "\n",
    "        spine_score = (\n",
    "            category_scores['anatomical'] * anatomical_weight +\n",
    "            category_scores['injuries'] * other_weight +\n",
    "            category_scores['conditions'] * other_weight +\n",
    "            category_scores['symptoms'] * other_weight\n",
    "        )\n",
    "\n",
    "        # SPINE-RELATED? must have anatomical term and atleastone other indicator>\n",
    "        is_spine_related = (\n",
    "            category_scores['anatomical'] > 0 and\n",
    "            (category_scores['injuries'] > 0 or \n",
    "             category_scores['conditions'] > 0 or \n",
    "             category_scores['symptoms'] > 0)\n",
    "        )\n",
    "\n",
    "        return {\n",
    "            'spine_score': float(spine_score),\n",
    "            'is_spine_related': is_spine_related,\n",
    "            'matched_terms': {k: v for k, v in matches.items() if v},\n",
    "            'category_scores': category_scores\n",
    "        }\n",
    "\n",
    "    def analyze_dataset(self, df, narrative_column='Narrative'):\n",
    "        \"\"\"\n",
    "        Analyze entire dataset of narratives\n",
    "        \"\"\"\n",
    "        results = []\n",
    "        \n",
    "        print(\"Analyzing narratives...\")\n",
    "        for text in tqdm(df[narrative_column]):\n",
    "            result = self.analyze_narrative(text)\n",
    "            results.append(result)\n",
    "        \n",
    "        #basic results to dataframe\n",
    "        df['spine_score'] = [r['spine_score'] for r in results]\n",
    "        df['is_spine_related'] = [r['is_spine_related'] for r in results]\n",
    "        \n",
    "        for category in self.spine_terms.keys():\n",
    "            df[f'{category}_terms'] = [\n",
    "                ', '.join(r['matched_terms'].get(category, [])) \n",
    "                for r in results\n",
    "            ]\n",
    "            df[f'{category}_score'] = [\n",
    "                r['category_scores'][category] \n",
    "                for r in results\n",
    "            ]\n",
    "        \n",
    "        return df\n",
    "\n",
    "def main():\n",
    "    excel_path = '/Users/armanimanov/Downloads/NEISS Soccer.xlsx'\n",
    "    output_path = \"soccer_spine_injuries.xlsx\"\n",
    "    \n",
    "    print(\"loading NEISS data...\")\n",
    "    df = pd.read_excel(excel_path)\n",
    "    \n",
    "    analyzer = SpineInjuryAnalyzer()\n",
    "    \n",
    "    df = analyzer.analyze_dataset(df)\n",
    "    \n",
    "    total_cases = len(df)\n",
    "    spine_cases = df['is_spine_related'].sum()\n",
    "    spine_percentage = (spine_cases / total_cases) * 100\n",
    "    \n",
    "    print(\"\\analysis Results:\")\n",
    "    print(f\"tot cases analyzed: {total_cases}\")\n",
    "    print(f\"Spine-related cases: {spine_cases} ({spine_percentage:.1f}%)\")\n",
    "    \n",
    "    for category in analyzer.spine_terms.keys():\n",
    "        cases = df[df[f'{category}_terms'].str.len() > 0].shape[0]\n",
    "        print(f\"{category.title()} terms found in {cases} cases ({cases/total_cases*100:.1f}%)\")\n",
    "    \n",
    "    print(\"\\nSaving results...\")\n",
    "    df.to_excel(output_path, index=False)\n",
    "    print(f\"Results saved to: {output_path}\")\n",
    "    \n",
    "    return df\n",
    "\n",
    "if __name__ == \"__main__\":\n",
    "    df = main()"
   ]
  },
  {
   "cell_type": "code",
   "execution_count": null,
   "metadata": {},
   "outputs": [],
   "source": []
  }
 ],
 "metadata": {
  "kernelspec": {
   "display_name": "vsc",
   "language": "python",
   "name": "python3"
  },
  "language_info": {
   "codemirror_mode": {
    "name": "ipython",
    "version": 3
   },
   "file_extension": ".py",
   "mimetype": "text/x-python",
   "name": "python",
   "nbconvert_exporter": "python",
   "pygments_lexer": "ipython3",
   "version": "3.9.20"
  }
 },
 "nbformat": 4,
 "nbformat_minor": 2
}
